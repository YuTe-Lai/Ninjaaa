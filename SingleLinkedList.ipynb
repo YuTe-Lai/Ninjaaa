{
 "cells": [
  {
   "cell_type": "code",
   "execution_count": 7,
   "metadata": {},
   "outputs": [],
   "source": [
    "#ListNode\n",
    "\n",
    "class ListNode:\n",
    "    def __init__(self,data):\n",
    "        self.data = data\n",
    "        #store data\n",
    "        \n",
    "        self.next = None\n",
    "        #store the reference(next item)\n",
    "        return"
   ]
  },
  {
   "cell_type": "code",
   "execution_count": 108,
   "metadata": {},
   "outputs": [],
   "source": [
    "node1 = ListNode(15)\n",
    "node2 = ListNode(666)"
   ]
  },
  {
   "cell_type": "code",
   "execution_count": 92,
   "metadata": {},
   "outputs": [],
   "source": [
    "#Single Linked-list\n",
    "#由於每個節點只有指向下一個結點，而沒有指出上一個結點，所以屬於single linked-list，相對於有指出上一個節點的double linked-list。\n",
    "\n",
    "class SingleLinkedList:\n",
    "    def __init__(self):\n",
    "        self.head = None\n",
    "        self.tail = None\n",
    "        return\n",
    "\n",
    "#在建立list的一開始，我們預設裡面是沒有節點的。而linked-list本身帶有head跟tail兩個屬性。當我們加入一個新的節點時：\n",
    "#若list本身還沒有任何節點，則head以及tail都會變成新的結點\n",
    "#若list已經包含有其他節點，則新加入的節點變成新的tail（本來的tail指向新的節點）。\n",
    "\n",
    "\n",
    "    def add_list_item(self,item):\n",
    "        if not isinstance(item, ListNode):\n",
    "            item = ListNode(item)\n",
    "        if self.head is None:\n",
    "            self.head = item  \n",
    "        else:\n",
    "            self.tail.next = item\n",
    "        self.tail = item\n",
    "        return\n",
    "    \n",
    "    def get(self, index)->int:\n",
    "        if index<0 :\n",
    "            return -1\n",
    "        \n",
    "    def list_length(self):\n",
    "        count = 0\n",
    "        current_node = self.head\n",
    "        while current_node is not None:\n",
    "            count = count + 1\n",
    "            current_node = current_node.next\n",
    "        return count\n",
    "    \n",
    "    def output_list(self):\n",
    "        current_node = self.head\n",
    "        while current_node is not None:\n",
    "            print(current_node.data)\n",
    "            current_node = current_node.next\n",
    "        return\n",
    "    \n",
    "    \n",
    "        \n",
    "        "
   ]
  },
  {
   "cell_type": "code",
   "execution_count": 113,
   "metadata": {},
   "outputs": [],
   "source": [
    "list1 = SingleLinkedList()"
   ]
  },
  {
   "cell_type": "code",
   "execution_count": 122,
   "metadata": {},
   "outputs": [],
   "source": [
    "list1.add_list_item(\"fuck\")"
   ]
  },
  {
   "cell_type": "code",
   "execution_count": 124,
   "metadata": {},
   "outputs": [
    {
     "data": {
      "text/plain": [
       "4"
      ]
     },
     "execution_count": 124,
     "metadata": {},
     "output_type": "execute_result"
    }
   ],
   "source": [
    "list1.list_length()"
   ]
  },
  {
   "cell_type": "code",
   "execution_count": 123,
   "metadata": {},
   "outputs": [
    {
     "name": "stdout",
     "output_type": "stream",
     "text": [
      "15\n",
      "666\n",
      "13\n",
      "fuck\n"
     ]
    }
   ],
   "source": [
    "list1.output_list()"
   ]
  },
  {
   "cell_type": "code",
   "execution_count": null,
   "metadata": {},
   "outputs": [],
   "source": [
    "#https://stackabuse.com/python-linked-lists/\n",
    "#https://leetcode.com/articles/design-linked-list/"
   ]
  }
 ],
 "metadata": {
  "kernelspec": {
   "display_name": "Python 3",
   "language": "python",
   "name": "python3"
  },
  "language_info": {
   "codemirror_mode": {
    "name": "ipython",
    "version": 3
   },
   "file_extension": ".py",
   "mimetype": "text/x-python",
   "name": "python",
   "nbconvert_exporter": "python",
   "pygments_lexer": "ipython3",
   "version": "3.7.3"
  }
 },
 "nbformat": 4,
 "nbformat_minor": 2
}
